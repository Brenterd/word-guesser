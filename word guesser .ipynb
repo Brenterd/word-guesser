{
 "cells": [
  {
   "cell_type": "code",
   "execution_count": null,
   "id": "b00cfda4",
   "metadata": {},
   "outputs": [],
   "source": [
    "import random"
   ]
  },
  {
   "cell_type": "code",
   "execution_count": null,
   "id": "9a194ee0",
   "metadata": {},
   "outputs": [],
   "source": [
    "word_bank=[\"apple\", \"banana\", \"cherry\", \"date\", \"elderberry\", \"fig\", \"grape\", \"honeydew\", \"kiwi\", \"lemon\", \"mango\", \"nectarine \", \"orange\", \"papaya\", \"quince\", \"raspberry\", \"strawberry\", \"tangerine\", \"ugli fruit\", \"vanilla\", \"watermelon\",\n",
    "\n",
    "\"apricot\", \"blackberry\", \"cantaloupe\", \"dragonfruit\", \"eggplant\", \"fennel\", \"garlic\", \"honeycrisp\", \"jalapeño\", \"kale\",\n",
    "\n",
    "\"lime\", \"mushroom\", \"nectar\", \"olive\", \"peach\", \"pear\", \"plum\", \"pomegranate\", \"rhubarb\", \"spinach\",\n",
    "\n",
    "\"tomato\", \"zucchini\", \"artichoke\", \"asparagus\", \"beet\", \"broccoli\", \"brussels sprout\", \"cabbage\", \"carrot\", \"cauliflower\",\n",
    "\n",
    "\"celery\", \"chard\", \"chili\", \"cucumber\", \"endive\", \"fiddlehead\", \"kohlrabi\", \"leek\", \"mustard greens\", \"parsnip\",\n",
    "\n",
    "\"radish\", \"rutabaga\", \"squash\", \"sweet potato\", \"turnip\", \"yam\", \"basil\", \"cilantro\", \"dill\", \"mint\",\n",
    "\n",
    "\"oregano\", \"parsley\", \"rosemary\", \"sage\", \"thyme\", \"chive\", \"tarragon\", \"bay leaf\", \"curry leaf\", \"lemongrass\",\n",
    "\n",
    "\"cinnamon\", \"clove\", \"ginger\", \"nutmeg\", \"pepper\", \"vanilla bean\", \"anise\", \"cardamom\", \"cumin\", \"fennel seed\",\n",
    "\n",
    "\"mustard seed\", \"sesame\", \"sunflower\", \"chia\", \"flaxseed\", \"pumpkin seed\", \"walnut\", \"almond\", \"pecan\", \"hazelnut\", \"algorithm\", \"api\", \"application\", \"array\", \"artificial intelligence\", \"bandwidth\", \"blockchain\", \n",
    "\"byte\", \"cache\", \"cloud computing\", \"compiler\", \"cryptography\", \"data\", \"database\", \"debugging\", \n",
    "\"encryption\", \"frontend\", \"function\", \"hardware\", \"http\", \"https\", \"interface\", \"internet\", \n",
    "\"java\", \"javascript\", \"machine learning\", \"malware\", \"network\", \"node\", \"object-oriented\", \n",
    "\"open source\", \"operating system\", \"packet\", \"protocol\", \"python\", \"query\", \"ram\", \"router\", \n",
    "\"scalability\", \"server\", \"software\", \"sql\", \"ssl\", \"syntax\", \"token\", \"ui\", \"ux\", \n",
    "\"virtualization\", \"web\", \"website\", \"xml\", \"yaml\", \"zipping\", \"agile\", \"big data\", \n",
    "\"cloud storage\", \"data mining\", \"data science\", \"devops\", \"digital\", \"e-commerce\", \n",
    "\"e-learning\", \"iot\", \"machine vision\", \"microservices\", \"mobile\", \"multithreading\", \n",
    "\"neural network\", \"quantum computing\", \"responsive design\", \"seo\", \"saas\", \"ui design\", \n",
    "\"version control\", \"wireless\", \"3d printing\", \"biometrics\", \"chatbot\", \"cybersecurity\", \n",
    "\"data analytics\", \"digital marketing\", \"edge computing\", \"e-waste\", \"fintech\", \n",
    "\"geolocation\", \"hacking\", \"information technology\", \"iot devices\", \"machinetomachine\", \n",
    "\"natural language processing\", \"quantum cryptography\", \"rpa\", \"smart contracts\", \n",
    "\"social media\", \"telecommuting\", \"telemedicine\", \"ux research\", \"virtual reality\", \n",
    "\"wearable technology\", \"wifi\", \"zigbee\"]\n",
    "\n",
    "word = random.choice(word_bank)\n",
    "guessword=['_']*len(word)\n",
    "str(word)\n",
    "word.replace(\" \",\"\")\n",
    "word\n"
   ]
  },
  {
   "cell_type": "code",
   "execution_count": null,
   "id": "d18f42c6",
   "metadata": {},
   "outputs": [],
   "source": [
    "attempts = 10 \n",
    "filled_letters=set()\n",
    "while attempts >= 0:\n",
    "    print(\"currentword\" + ' '.join(guessword))\n",
    "    guess=input('your guess :').lower()\n",
    "    if guess in word:\n",
    "        for i in range(len(word)):\n",
    "            if word[i]==guess  and guessword[i] == '_':\n",
    "                guessword[i]=guess\n",
    "                break\n",
    "        filled_letters.add(guess)\n",
    "        print(\"Great guess!\")\n",
    "        if ('_' not in guessword):\n",
    "                 print(\"great guess,\\n congratulations \"+ word)\n",
    "                 break\n",
    "        \n",
    "    else:\n",
    "        if(attempts    >0):\n",
    "            attempts -= 1\n",
    "            print(\"Wrong guess!\")\n",
    "        else:\n",
    "            print(\"oops you have run out of your chances!\\n the word is /t\"+ word) \n",
    "            "
   ]
  },
  {
   "cell_type": "code",
   "execution_count": null,
   "id": "3517ba5f",
   "metadata": {},
   "outputs": [],
   "source": []
  },
  {
   "cell_type": "code",
   "execution_count": null,
   "id": "175bc3b1",
   "metadata": {},
   "outputs": [],
   "source": []
  }
 ],
 "metadata": {
  "kernelspec": {
   "display_name": "Python 3 (ipykernel)",
   "language": "python",
   "name": "python3"
  },
  "language_info": {
   "codemirror_mode": {
    "name": "ipython",
    "version": 3
   },
   "file_extension": ".py",
   "mimetype": "text/x-python",
   "name": "python",
   "nbconvert_exporter": "python",
   "pygments_lexer": "ipython3",
   "version": "3.11.7"
  }
 },
 "nbformat": 4,
 "nbformat_minor": 5
}
